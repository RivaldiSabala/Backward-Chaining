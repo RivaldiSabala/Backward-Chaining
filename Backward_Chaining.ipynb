{
  "nbformat": 4,
  "nbformat_minor": 0,
  "metadata": {
    "colab": {
      "provenance": []
    },
    "kernelspec": {
      "name": "python3",
      "display_name": "Python 3"
    },
    "language_info": {
      "name": "python"
    }
  },
  "cells": [
    {
      "cell_type": "code",
      "source": [
        "def backward_chaining(knowledge_base, goal, facts):\n",
        "    \"\"\"\n",
        "    Melakukan backward chaining untuk mencapai goal berdasarkan knowledge base dan facts yang diketahui.\n",
        "\n",
        "    Args:\n",
        "    knowledge_base (list): Daftar aturan, setiap aturan adalah dictionary dengan 'consequent' dan 'antecedents'.\n",
        "    goal (str): Tujuan yang ingin dicapai.\n",
        "    facts (dict): Fakta-fakta yang diketahui, berupa dictionary dengan key sebagai nama fakta dan value sebagai nilai boolean.\n",
        "\n",
        "    Returns:\n",
        "    bool: True jika goal dapat dicapai, False jika tidak.\n",
        "    \"\"\"\n",
        "    # Inisialisasi tumpukan tujuan dengan tujuan awal\n",
        "    goals_stack = [goal]\n",
        "\n",
        "    # Proses tumpukan tujuan\n",
        "    while goals_stack:\n",
        "        current_goal = goals_stack.pop()\n",
        "\n",
        "        # Periksa apakah current_goal sudah merupakan fakta yang diketahui\n",
        "        if facts.get(current_goal) is not None:\n",
        "            continue\n",
        "\n",
        "        # Jika current_goal tidak ada dalam facts, cari aturan yang dapat memenuhi tujuan ini\n",
        "        rule_found = False\n",
        "        for rule in knowledge_base:\n",
        "            consequent, antecedents = rule['consequent'], rule['antecedents']\n",
        "\n",
        "            # Periksa apakah consequent dari aturan cocok dengan current_goal\n",
        "            if consequent == current_goal:\n",
        "                rule_found = True\n",
        "                # Tambahkan antecedents dari aturan ke tumpukan tujuan\n",
        "                goals_stack.extend(antecedents)\n",
        "\n",
        "        # Jika tidak ada aturan yang ditemukan untuk current_goal, berarti goal tidak dapat dicapai\n",
        "        if not rule_found:\n",
        "            return False\n",
        "\n",
        "    # Setelah pemrosesan, periksa apakah tujuan telah tercapai\n",
        "    return facts.get(goal) is not None"
      ],
      "metadata": {
        "id": "YArC5nC6N1UC"
      },
      "execution_count": 1,
      "outputs": []
    },
    {
      "cell_type": "code",
      "source": [
        "# Contoh penggunaan\n",
        "knowledge_base = [\n",
        "    {'consequent': 'A', 'antecedents': ['B', 'C']},\n",
        "    {'consequent': 'B', 'antecedents': ['D']},\n",
        "    {'consequent': 'C', 'antecedents': []},\n",
        "    {'consequent': 'D', 'antecedents': []},\n",
        "]"
      ],
      "metadata": {
        "id": "lZBbUJtpOLoR"
      },
      "execution_count": 2,
      "outputs": []
    },
    {
      "cell_type": "code",
      "source": [
        "#fakta\n",
        "facts = {\n",
        "    'C': True,\n",
        "    'D': True\n",
        "}"
      ],
      "metadata": {
        "id": "uyLqQIgvQjFx"
      },
      "execution_count": 3,
      "outputs": []
    },
    {
      "cell_type": "code",
      "source": [
        "#Tujuan atau goal yang ingin di capai\n",
        "goal = 'A'"
      ],
      "metadata": {
        "id": "10BIP_9WQk6o"
      },
      "execution_count": 4,
      "outputs": []
    },
    {
      "cell_type": "code",
      "source": [
        "# Jalankan backward chaining\n",
        "fact = backward_chaining(knowledge_base, goal, facts)\n",
        "print(\"Tujuan tercapai:\", fact)"
      ],
      "metadata": {
        "colab": {
          "base_uri": "https://localhost:8080/"
        },
        "id": "FCdPpakoN56x",
        "outputId": "385e3df4-6a54-4129-eee0-a40687fc06ad"
      },
      "execution_count": 5,
      "outputs": [
        {
          "output_type": "stream",
          "name": "stdout",
          "text": [
            "Tujuan tercapai: False\n"
          ]
        }
      ]
    }
  ]
}